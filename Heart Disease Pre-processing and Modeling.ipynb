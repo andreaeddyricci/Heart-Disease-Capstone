{
 "cells": [
  {
   "cell_type": "markdown",
   "id": "64ab86bc",
   "metadata": {},
   "source": [
    "# Pre-processing and Spliting"
   ]
  },
  {
   "cell_type": "code",
   "execution_count": 58,
   "id": "bbf59f19",
   "metadata": {},
   "outputs": [],
   "source": [
    "#imports\n",
    "import pandas as pd\n",
    "import matplotlib.pyplot as plt\n",
    "import numpy as np\n",
    "from sklearn.metrics import roc_auc_score, confusion_matrix, classification_report, accuracy_score, f1_score, recall_score\n",
    "\n",
    "health = pd.read_csv('cleaned_heart_2020.csv')"
   ]
  },
  {
   "cell_type": "code",
   "execution_count": 2,
   "id": "c9a2cf6f",
   "metadata": {},
   "outputs": [
    {
     "data": {
      "text/html": [
       "<div>\n",
       "<style scoped>\n",
       "    .dataframe tbody tr th:only-of-type {\n",
       "        vertical-align: middle;\n",
       "    }\n",
       "\n",
       "    .dataframe tbody tr th {\n",
       "        vertical-align: top;\n",
       "    }\n",
       "\n",
       "    .dataframe thead th {\n",
       "        text-align: right;\n",
       "    }\n",
       "</style>\n",
       "<table border=\"1\" class=\"dataframe\">\n",
       "  <thead>\n",
       "    <tr style=\"text-align: right;\">\n",
       "      <th></th>\n",
       "      <th>HeartDisease</th>\n",
       "      <th>BMI</th>\n",
       "      <th>Smoking</th>\n",
       "      <th>AlcoholDrinking</th>\n",
       "      <th>Stroke</th>\n",
       "      <th>PhysicalHealth</th>\n",
       "      <th>MentalHealth</th>\n",
       "      <th>DiffWalking</th>\n",
       "      <th>Sex</th>\n",
       "      <th>AgeCategory</th>\n",
       "      <th>...</th>\n",
       "      <th>Diabetic</th>\n",
       "      <th>PhysicalActivity</th>\n",
       "      <th>GenHealth</th>\n",
       "      <th>SleepTime</th>\n",
       "      <th>Asthma</th>\n",
       "      <th>KidneyDisease</th>\n",
       "      <th>SkinCancer</th>\n",
       "      <th>GenHealth_Number</th>\n",
       "      <th>SleepGroups</th>\n",
       "      <th>BMIGroups</th>\n",
       "    </tr>\n",
       "  </thead>\n",
       "  <tbody>\n",
       "    <tr>\n",
       "      <th>0</th>\n",
       "      <td>0</td>\n",
       "      <td>16.60</td>\n",
       "      <td>1</td>\n",
       "      <td>0</td>\n",
       "      <td>0</td>\n",
       "      <td>3.0</td>\n",
       "      <td>30.0</td>\n",
       "      <td>0</td>\n",
       "      <td>1</td>\n",
       "      <td>55-59</td>\n",
       "      <td>...</td>\n",
       "      <td>1.0</td>\n",
       "      <td>1</td>\n",
       "      <td>Very good</td>\n",
       "      <td>5.0</td>\n",
       "      <td>1</td>\n",
       "      <td>0</td>\n",
       "      <td>1</td>\n",
       "      <td>4</td>\n",
       "      <td>1-6</td>\n",
       "      <td>Thinness</td>\n",
       "    </tr>\n",
       "    <tr>\n",
       "      <th>1</th>\n",
       "      <td>0</td>\n",
       "      <td>20.34</td>\n",
       "      <td>0</td>\n",
       "      <td>0</td>\n",
       "      <td>1</td>\n",
       "      <td>0.0</td>\n",
       "      <td>0.0</td>\n",
       "      <td>0</td>\n",
       "      <td>1</td>\n",
       "      <td>80 or older</td>\n",
       "      <td>...</td>\n",
       "      <td>0.0</td>\n",
       "      <td>1</td>\n",
       "      <td>Very good</td>\n",
       "      <td>7.0</td>\n",
       "      <td>0</td>\n",
       "      <td>0</td>\n",
       "      <td>0</td>\n",
       "      <td>4</td>\n",
       "      <td>7-12</td>\n",
       "      <td>Normal</td>\n",
       "    </tr>\n",
       "    <tr>\n",
       "      <th>2</th>\n",
       "      <td>0</td>\n",
       "      <td>26.58</td>\n",
       "      <td>1</td>\n",
       "      <td>0</td>\n",
       "      <td>0</td>\n",
       "      <td>20.0</td>\n",
       "      <td>30.0</td>\n",
       "      <td>0</td>\n",
       "      <td>0</td>\n",
       "      <td>65-69</td>\n",
       "      <td>...</td>\n",
       "      <td>1.0</td>\n",
       "      <td>1</td>\n",
       "      <td>Fair</td>\n",
       "      <td>8.0</td>\n",
       "      <td>1</td>\n",
       "      <td>0</td>\n",
       "      <td>0</td>\n",
       "      <td>2</td>\n",
       "      <td>7-12</td>\n",
       "      <td>Overweight</td>\n",
       "    </tr>\n",
       "    <tr>\n",
       "      <th>3</th>\n",
       "      <td>0</td>\n",
       "      <td>24.21</td>\n",
       "      <td>0</td>\n",
       "      <td>0</td>\n",
       "      <td>0</td>\n",
       "      <td>0.0</td>\n",
       "      <td>0.0</td>\n",
       "      <td>0</td>\n",
       "      <td>1</td>\n",
       "      <td>75-79</td>\n",
       "      <td>...</td>\n",
       "      <td>0.0</td>\n",
       "      <td>0</td>\n",
       "      <td>Good</td>\n",
       "      <td>6.0</td>\n",
       "      <td>0</td>\n",
       "      <td>0</td>\n",
       "      <td>1</td>\n",
       "      <td>3</td>\n",
       "      <td>1-6</td>\n",
       "      <td>Normal</td>\n",
       "    </tr>\n",
       "    <tr>\n",
       "      <th>4</th>\n",
       "      <td>0</td>\n",
       "      <td>23.71</td>\n",
       "      <td>0</td>\n",
       "      <td>0</td>\n",
       "      <td>0</td>\n",
       "      <td>28.0</td>\n",
       "      <td>0.0</td>\n",
       "      <td>1</td>\n",
       "      <td>1</td>\n",
       "      <td>40-44</td>\n",
       "      <td>...</td>\n",
       "      <td>0.0</td>\n",
       "      <td>1</td>\n",
       "      <td>Very good</td>\n",
       "      <td>8.0</td>\n",
       "      <td>0</td>\n",
       "      <td>0</td>\n",
       "      <td>0</td>\n",
       "      <td>4</td>\n",
       "      <td>7-12</td>\n",
       "      <td>Normal</td>\n",
       "    </tr>\n",
       "  </tbody>\n",
       "</table>\n",
       "<p>5 rows × 21 columns</p>\n",
       "</div>"
      ],
      "text/plain": [
       "   HeartDisease    BMI  Smoking  AlcoholDrinking  Stroke  PhysicalHealth  \\\n",
       "0             0  16.60        1                0       0             3.0   \n",
       "1             0  20.34        0                0       1             0.0   \n",
       "2             0  26.58        1                0       0            20.0   \n",
       "3             0  24.21        0                0       0             0.0   \n",
       "4             0  23.71        0                0       0            28.0   \n",
       "\n",
       "   MentalHealth  DiffWalking  Sex  AgeCategory  ... Diabetic  \\\n",
       "0          30.0            0    1        55-59  ...      1.0   \n",
       "1           0.0            0    1  80 or older  ...      0.0   \n",
       "2          30.0            0    0        65-69  ...      1.0   \n",
       "3           0.0            0    1        75-79  ...      0.0   \n",
       "4           0.0            1    1        40-44  ...      0.0   \n",
       "\n",
       "   PhysicalActivity  GenHealth SleepTime  Asthma  KidneyDisease  SkinCancer  \\\n",
       "0                 1  Very good       5.0       1              0           1   \n",
       "1                 1  Very good       7.0       0              0           0   \n",
       "2                 1       Fair       8.0       1              0           0   \n",
       "3                 0       Good       6.0       0              0           1   \n",
       "4                 1  Very good       8.0       0              0           0   \n",
       "\n",
       "   GenHealth_Number  SleepGroups   BMIGroups  \n",
       "0                 4          1-6    Thinness  \n",
       "1                 4         7-12      Normal  \n",
       "2                 2         7-12  Overweight  \n",
       "3                 3          1-6      Normal  \n",
       "4                 4         7-12      Normal  \n",
       "\n",
       "[5 rows x 21 columns]"
      ]
     },
     "execution_count": 2,
     "metadata": {},
     "output_type": "execute_result"
    }
   ],
   "source": [
    "health.head()"
   ]
  },
  {
   "cell_type": "code",
   "execution_count": 3,
   "id": "53c17d9b",
   "metadata": {},
   "outputs": [],
   "source": [
    "#convert yes/no columns to category type\n",
    "columns = ['HeartDisease', 'Smoking', 'AlcoholDrinking', 'Stroke', 'DiffWalking', 'Sex', 'AgeCategory',\n",
    "       'Race', 'Diabetic', 'PhysicalActivity', 'GenHealth',\n",
    "       'Asthma', 'KidneyDisease', 'SkinCancer','GenHealth_Number',\n",
    "       'SleepGroups', 'BMIGroups']\n",
    "for i in columns:\n",
    "    health[i] = health[i].astype('category')"
   ]
  },
  {
   "cell_type": "code",
   "execution_count": 4,
   "id": "6b1f8c5d",
   "metadata": {},
   "outputs": [
    {
     "data": {
      "text/plain": [
       "HeartDisease        category\n",
       "BMI                  float64\n",
       "Smoking             category\n",
       "AlcoholDrinking     category\n",
       "Stroke              category\n",
       "PhysicalHealth       float64\n",
       "MentalHealth         float64\n",
       "DiffWalking         category\n",
       "Sex                 category\n",
       "AgeCategory         category\n",
       "Race                category\n",
       "Diabetic            category\n",
       "PhysicalActivity    category\n",
       "GenHealth           category\n",
       "SleepTime            float64\n",
       "Asthma              category\n",
       "KidneyDisease       category\n",
       "SkinCancer          category\n",
       "GenHealth_Number    category\n",
       "SleepGroups         category\n",
       "BMIGroups           category\n",
       "dtype: object"
      ]
     },
     "execution_count": 4,
     "metadata": {},
     "output_type": "execute_result"
    }
   ],
   "source": [
    "health.dtypes"
   ]
  },
  {
   "cell_type": "code",
   "execution_count": 6,
   "id": "8fffb36e",
   "metadata": {},
   "outputs": [
    {
     "data": {
      "text/html": [
       "<div>\n",
       "<style scoped>\n",
       "    .dataframe tbody tr th:only-of-type {\n",
       "        vertical-align: middle;\n",
       "    }\n",
       "\n",
       "    .dataframe tbody tr th {\n",
       "        vertical-align: top;\n",
       "    }\n",
       "\n",
       "    .dataframe thead th {\n",
       "        text-align: right;\n",
       "    }\n",
       "</style>\n",
       "<table border=\"1\" class=\"dataframe\">\n",
       "  <thead>\n",
       "    <tr style=\"text-align: right;\">\n",
       "      <th></th>\n",
       "      <th>HeartDisease</th>\n",
       "      <th>BMI</th>\n",
       "      <th>Smoking</th>\n",
       "      <th>AlcoholDrinking</th>\n",
       "      <th>Stroke</th>\n",
       "      <th>PhysicalHealth</th>\n",
       "      <th>MentalHealth</th>\n",
       "      <th>DiffWalking</th>\n",
       "      <th>Sex</th>\n",
       "      <th>Diabetic</th>\n",
       "      <th>...</th>\n",
       "      <th>BMIGroups_Obese</th>\n",
       "      <th>BMIGroups_Overweight</th>\n",
       "      <th>BMIGroups_Severe Thinness</th>\n",
       "      <th>BMIGroups_Severely Obese</th>\n",
       "      <th>BMIGroups_Thinness</th>\n",
       "      <th>Race_Asian</th>\n",
       "      <th>Race_Black</th>\n",
       "      <th>Race_Hispanic</th>\n",
       "      <th>Race_Other</th>\n",
       "      <th>Race_White</th>\n",
       "    </tr>\n",
       "  </thead>\n",
       "  <tbody>\n",
       "    <tr>\n",
       "      <th>0</th>\n",
       "      <td>0</td>\n",
       "      <td>16.60</td>\n",
       "      <td>1</td>\n",
       "      <td>0</td>\n",
       "      <td>0</td>\n",
       "      <td>3.0</td>\n",
       "      <td>30.0</td>\n",
       "      <td>0</td>\n",
       "      <td>1</td>\n",
       "      <td>1.0</td>\n",
       "      <td>...</td>\n",
       "      <td>0</td>\n",
       "      <td>0</td>\n",
       "      <td>0</td>\n",
       "      <td>0</td>\n",
       "      <td>1</td>\n",
       "      <td>0</td>\n",
       "      <td>0</td>\n",
       "      <td>0</td>\n",
       "      <td>0</td>\n",
       "      <td>1</td>\n",
       "    </tr>\n",
       "    <tr>\n",
       "      <th>1</th>\n",
       "      <td>0</td>\n",
       "      <td>20.34</td>\n",
       "      <td>0</td>\n",
       "      <td>0</td>\n",
       "      <td>1</td>\n",
       "      <td>0.0</td>\n",
       "      <td>0.0</td>\n",
       "      <td>0</td>\n",
       "      <td>1</td>\n",
       "      <td>0.0</td>\n",
       "      <td>...</td>\n",
       "      <td>0</td>\n",
       "      <td>0</td>\n",
       "      <td>0</td>\n",
       "      <td>0</td>\n",
       "      <td>0</td>\n",
       "      <td>0</td>\n",
       "      <td>0</td>\n",
       "      <td>0</td>\n",
       "      <td>0</td>\n",
       "      <td>1</td>\n",
       "    </tr>\n",
       "    <tr>\n",
       "      <th>2</th>\n",
       "      <td>0</td>\n",
       "      <td>26.58</td>\n",
       "      <td>1</td>\n",
       "      <td>0</td>\n",
       "      <td>0</td>\n",
       "      <td>20.0</td>\n",
       "      <td>30.0</td>\n",
       "      <td>0</td>\n",
       "      <td>0</td>\n",
       "      <td>1.0</td>\n",
       "      <td>...</td>\n",
       "      <td>0</td>\n",
       "      <td>1</td>\n",
       "      <td>0</td>\n",
       "      <td>0</td>\n",
       "      <td>0</td>\n",
       "      <td>0</td>\n",
       "      <td>0</td>\n",
       "      <td>0</td>\n",
       "      <td>0</td>\n",
       "      <td>1</td>\n",
       "    </tr>\n",
       "    <tr>\n",
       "      <th>3</th>\n",
       "      <td>0</td>\n",
       "      <td>24.21</td>\n",
       "      <td>0</td>\n",
       "      <td>0</td>\n",
       "      <td>0</td>\n",
       "      <td>0.0</td>\n",
       "      <td>0.0</td>\n",
       "      <td>0</td>\n",
       "      <td>1</td>\n",
       "      <td>0.0</td>\n",
       "      <td>...</td>\n",
       "      <td>0</td>\n",
       "      <td>0</td>\n",
       "      <td>0</td>\n",
       "      <td>0</td>\n",
       "      <td>0</td>\n",
       "      <td>0</td>\n",
       "      <td>0</td>\n",
       "      <td>0</td>\n",
       "      <td>0</td>\n",
       "      <td>1</td>\n",
       "    </tr>\n",
       "    <tr>\n",
       "      <th>4</th>\n",
       "      <td>0</td>\n",
       "      <td>23.71</td>\n",
       "      <td>0</td>\n",
       "      <td>0</td>\n",
       "      <td>0</td>\n",
       "      <td>28.0</td>\n",
       "      <td>0.0</td>\n",
       "      <td>1</td>\n",
       "      <td>1</td>\n",
       "      <td>0.0</td>\n",
       "      <td>...</td>\n",
       "      <td>0</td>\n",
       "      <td>0</td>\n",
       "      <td>0</td>\n",
       "      <td>0</td>\n",
       "      <td>0</td>\n",
       "      <td>0</td>\n",
       "      <td>0</td>\n",
       "      <td>0</td>\n",
       "      <td>0</td>\n",
       "      <td>1</td>\n",
       "    </tr>\n",
       "  </tbody>\n",
       "</table>\n",
       "<p>5 rows × 49 columns</p>\n",
       "</div>"
      ],
      "text/plain": [
       "  HeartDisease    BMI Smoking AlcoholDrinking Stroke  PhysicalHealth  \\\n",
       "0            0  16.60       1               0      0             3.0   \n",
       "1            0  20.34       0               0      1             0.0   \n",
       "2            0  26.58       1               0      0            20.0   \n",
       "3            0  24.21       0               0      0             0.0   \n",
       "4            0  23.71       0               0      0            28.0   \n",
       "\n",
       "   MentalHealth DiffWalking Sex Diabetic  ... BMIGroups_Obese  \\\n",
       "0          30.0           0   1      1.0  ...               0   \n",
       "1           0.0           0   1      0.0  ...               0   \n",
       "2          30.0           0   0      1.0  ...               0   \n",
       "3           0.0           0   1      0.0  ...               0   \n",
       "4           0.0           1   1      0.0  ...               0   \n",
       "\n",
       "   BMIGroups_Overweight BMIGroups_Severe Thinness BMIGroups_Severely Obese  \\\n",
       "0                     0                         0                        0   \n",
       "1                     0                         0                        0   \n",
       "2                     1                         0                        0   \n",
       "3                     0                         0                        0   \n",
       "4                     0                         0                        0   \n",
       "\n",
       "  BMIGroups_Thinness  Race_Asian  Race_Black  Race_Hispanic  Race_Other  \\\n",
       "0                  1           0           0              0           0   \n",
       "1                  0           0           0              0           0   \n",
       "2                  0           0           0              0           0   \n",
       "3                  0           0           0              0           0   \n",
       "4                  0           0           0              0           0   \n",
       "\n",
       "   Race_White  \n",
       "0           1  \n",
       "1           1  \n",
       "2           1  \n",
       "3           1  \n",
       "4           1  \n",
       "\n",
       "[5 rows x 49 columns]"
      ]
     },
     "execution_count": 6,
     "metadata": {},
     "output_type": "execute_result"
    }
   ],
   "source": [
    "#Create dummy or indicator features for categorical variables\n",
    "dummy_df = pd.get_dummies(health[['AgeCategory','GenHealth','GenHealth_Number','SleepGroups','BMIGroups', 'Race']], drop_first = True)\n",
    "df = pd.concat([health, dummy_df], axis=1) #combine the dfs\n",
    "df = df.drop(['AgeCategory','GenHealth','GenHealth_Number','SleepGroups','BMIGroups','Race'], axis=1) #remove the original columns\n",
    "df.head()"
   ]
  },
  {
   "cell_type": "code",
   "execution_count": 7,
   "id": "53bc4ee0",
   "metadata": {},
   "outputs": [],
   "source": [
    "#Split data into testing and training datasets\n",
    "from sklearn.model_selection import train_test_split\n",
    "X = df.drop('HeartDisease',axis=1)\n",
    "y = df['HeartDisease']\n",
    "\n",
    "X_train, X_test, y_train, y_test = train_test_split(X, y, test_size=0.20, random_state=11, stratify=y)"
   ]
  },
  {
   "cell_type": "code",
   "execution_count": 8,
   "id": "55b65faf",
   "metadata": {},
   "outputs": [],
   "source": [
    "#Standardize the magnitude of numeric features using a scaler\n",
    "from sklearn.preprocessing import StandardScaler\n",
    "scaler = StandardScaler()\n",
    "X_train[['BMI', 'PhysicalHealth','MentalHealth', 'SleepTime']] = scaler.fit_transform(X_train[['BMI', 'PhysicalHealth','MentalHealth', 'SleepTime']].values)\n",
    "X_test[['BMI', 'PhysicalHealth','MentalHealth', 'SleepTime']] = scaler.transform(X_test[['BMI', 'PhysicalHealth','MentalHealth', 'SleepTime']].values)"
   ]
  },
  {
   "cell_type": "code",
   "execution_count": null,
   "id": "691e05da",
   "metadata": {},
   "outputs": [],
   "source": [
    "#scaled_features_df = pd.DataFrame(X_train_scaled, index=df.index, columns=['BMI_scaled', 'PhysicalHealth_scaled','MentalHealth_scaled', 'SleepTime_scaled'])\n",
    "#scaled_df = df.drop(['BMI', 'PhysicalHealth','MentalHealth', 'SleepTime'], axis=1).join(scaled_features_df) #combine the dfs and drop unscaled columns\n",
    "#scaled_df.head()"
   ]
  },
  {
   "cell_type": "markdown",
   "id": "998e0237",
   "metadata": {},
   "source": [
    "# Modeling"
   ]
  },
  {
   "cell_type": "markdown",
   "id": "2ef2d472",
   "metadata": {},
   "source": [
    "Logistic Regression\n",
    "\n",
    "\n",
    "Gradient Boosting (check scikitlearn.classification)\n",
    "\n",
    "\n",
    "Naive Bayes\n",
    "\n",
    "\n",
    "Decision Tree\n",
    "\n",
    "\n",
    "Random Forest\n",
    "\n",
    "\n",
    "Support Vector Machines -- might take awhile"
   ]
  },
  {
   "cell_type": "markdown",
   "id": "c9a52c7b",
   "metadata": {},
   "source": [
    "### Logistic Regression"
   ]
  },
  {
   "cell_type": "code",
   "execution_count": 9,
   "id": "c5be5378",
   "metadata": {},
   "outputs": [
    {
     "name": "stdout",
     "output_type": "stream",
     "text": [
      "[0.00255282 0.01611326 0.08404242 0.02556136 0.04742623 0.07239188\n",
      " 0.07214192 0.0594722  0.20700899 0.16076936]\n"
     ]
    },
    {
     "name": "stderr",
     "output_type": "stream",
     "text": [
      "C:\\Users\\andre\\anaconda3\\lib\\site-packages\\sklearn\\linear_model\\_logistic.py:814: ConvergenceWarning: lbfgs failed to converge (status=1):\n",
      "STOP: TOTAL NO. of ITERATIONS REACHED LIMIT.\n",
      "\n",
      "Increase the number of iterations (max_iter) or scale the data as shown in:\n",
      "    https://scikit-learn.org/stable/modules/preprocessing.html\n",
      "Please also refer to the documentation for alternative solver options:\n",
      "    https://scikit-learn.org/stable/modules/linear_model.html#logistic-regression\n",
      "  n_iter_i = _check_optimize_result(\n"
     ]
    }
   ],
   "source": [
    "from sklearn.linear_model import LogisticRegression\n",
    "logreg = LogisticRegression() # Instantiate the model\n",
    "logreg.fit(X_train, y_train) #fit the model\n",
    "y_pred = logreg.predict(X_test)\n",
    "y_pred_probs = logreg.predict_proba(X_test)[:, 1] # Predict probabilities of true by slicing the second column\n",
    "print(y_pred_probs[:10]) #first 10 probabilities\n",
    "#the probability of a diabetes diagnosis for the first 10 individuals in the test set ranges from 0.01 to 0.79. Now let's plot the ROC curve to visualize performance using different thresholds."
   ]
  },
  {
   "cell_type": "code",
   "execution_count": 26,
   "id": "d086c890",
   "metadata": {},
   "outputs": [
    {
     "data": {
      "image/png": "[encoded data removed]",
      "text/plain": [
       "<Figure size 432x288 with 1 Axes>"
      ]
     },
     "metadata": {
      "needs_background": "light"
     },
     "output_type": "display_data"
    },
    {
     "name": "stdout",
     "output_type": "stream",
     "text": [
      "0.8406818490574168\n",
      "[[57325  1159]\n",
      " [ 4886   589]]\n",
      "              precision    recall  f1-score   support\n",
      "\n",
      "           0       0.92      0.98      0.95     58484\n",
      "           1       0.34      0.11      0.16      5475\n",
      "\n",
      "    accuracy                           0.91     63959\n",
      "   macro avg       0.63      0.54      0.56     63959\n",
      "weighted avg       0.87      0.91      0.88     63959\n",
      "\n"
     ]
    }
   ],
   "source": [
    "#ROC Curve\n",
    "#visualizes how the true positive rate (tpr) and false positive rate (fpr) vary as the decision threshold changes\n",
    "#The ROC curve shows the trade-off between sensitivity (or TPR) and specificity (1 – FPR).\n",
    "#Classifiers that give curves closer to the top-left corner indicate a better performance.\n",
    "\n",
    "from sklearn.metrics import roc_curve\n",
    "fpr, tpr, thresholds = roc_curve(y_test, y_pred_probs)\n",
    "plt.plot([0, 1], [0, 1], 'k--') #plot y = x dotted, which represents randomly guessing the class of each observation\n",
    "plt.plot(fpr, tpr) # Plot true positive rate against false positive rate\n",
    "plt.xlabel('False Positive Rate')\n",
    "plt.ylabel('True Positive Rate')\n",
    "plt.title('Logistic Regression ROC Curve')\n",
    "plt.show()\n",
    "#The ROC curve is above the dotted line, so the model performs better than randomly guessing the class of each observation.\n",
    "\n",
    "#ROC AUC score\n",
    "#The Area Under the Curve (AUC) is the measure of the ability of a classifier to distinguish between classes and is used as a summary of the ROC curve. \n",
    "#The higher the AUC, the better the performance of the model at distinguishing between the positive and negative classes\n",
    "\n",
    "print(roc_auc_score(y_test, y_pred_probs)) # Calculate ROC AUC score\n",
    "print(confusion_matrix(y_test, y_pred)) # Calculate the confusion matrix\n",
    "print(classification_report(y_test, y_pred)) # Calculate the classification report, which gives F1 score\n",
    "# A ROC AUC score of 0.8002 means this model is 60% better than a chance model at correctly predicting labels!"
   ]
  },
  {
   "cell_type": "markdown",
   "id": "8452ecba",
   "metadata": {},
   "source": [
    "### Gradient Boosting (check scikitlearn.classification)"
   ]
  },
  {
   "cell_type": "code",
   "execution_count": 59,
   "id": "86de4115",
   "metadata": {},
   "outputs": [
    {
     "name": "stdout",
     "output_type": "stream",
     "text": [
      "Gradient Boosting score 0.916509013586829\n",
      "Gradient Boosting confusion matrix \n",
      " [[58484     0]\n",
      " [ 5475     0]]\n",
      "Gradient Boosting classification report \n",
      "               precision    recall  f1-score   support\n",
      "\n",
      "           0       0.91      1.00      0.96     58484\n",
      "           1       0.00      0.00      0.00      5475\n",
      "\n",
      "    accuracy                           0.91     63959\n",
      "   macro avg       0.46      0.50      0.48     63959\n",
      "weighted avg       0.84      0.91      0.87     63959\n",
      "\n",
      "Gradient Boosting Accuracy: 0.9143982864022264\n",
      "Gradient Boosting f1-score: 0.8735112563715003\n",
      "Gradient Boosting Recall score: 0.0\n"
     ]
    },
    {
     "name": "stderr",
     "output_type": "stream",
     "text": [
      "C:\\Users\\andre\\anaconda3\\lib\\site-packages\\sklearn\\metrics\\_classification.py:1318: UndefinedMetricWarning: Precision and F-score are ill-defined and being set to 0.0 in labels with no predicted samples. Use `zero_division` parameter to control this behavior.\n",
      "  _warn_prf(average, modifier, msg_start, len(result))\n",
      "C:\\Users\\andre\\anaconda3\\lib\\site-packages\\sklearn\\metrics\\_classification.py:1318: UndefinedMetricWarning: Precision and F-score are ill-defined and being set to 0.0 in labels with no predicted samples. Use `zero_division` parameter to control this behavior.\n",
      "  _warn_prf(average, modifier, msg_start, len(result))\n",
      "C:\\Users\\andre\\anaconda3\\lib\\site-packages\\sklearn\\metrics\\_classification.py:1318: UndefinedMetricWarning: Precision and F-score are ill-defined and being set to 0.0 in labels with no predicted samples. Use `zero_division` parameter to control this behavior.\n",
      "  _warn_prf(average, modifier, msg_start, len(result))\n"
     ]
    }
   ],
   "source": [
    "from sklearn.ensemble import GradientBoostingClassifier\n",
    "gb = GradientBoostingClassifier(n_estimators=100, learning_rate=1.0,max_depth=1, random_state=0).fit(X_train, y_train)\n",
    "print('Gradient Boosting score' , gb.score(X_test, y_test))\n",
    "print('Gradient Boosting confusion matrix' , '\\n' , confusion_matrix(y_test, y_pred)) # Calculate the confusion matrix\n",
    "print('Gradient Boosting classification report' , '\\n' , classification_report(y_test, y_pred)) # Calculate the classification report, which gives F1 score\n",
    "print('Gradient Boosting Accuracy:' , accuracy_score(y_test, y_pred))\n",
    "print('Gradient Boosting f1-score:', f1_score(y_test, y_pred, average='weighted'))\n",
    "print('Gradient Boosting Recall score:' , recall_score(y_test, y_pred))"
   ]
  },
  {
   "cell_type": "markdown",
   "id": "6310d487",
   "metadata": {},
   "source": [
    "### Naive Bayes"
   ]
  },
  {
   "cell_type": "code",
   "execution_count": 60,
   "id": "2677ecee",
   "metadata": {},
   "outputs": [
    {
     "name": "stdout",
     "output_type": "stream",
     "text": [
      "Naive Bayes confusion matrix \n",
      " [[45953 12531]\n",
      " [ 1664  3811]]\n",
      "Niave Bayes classification report \n",
      "               precision    recall  f1-score   support\n",
      "\n",
      "           0       0.97      0.79      0.87     58484\n",
      "           1       0.23      0.70      0.35      5475\n",
      "\n",
      "    accuracy                           0.78     63959\n",
      "   macro avg       0.60      0.74      0.61     63959\n",
      "weighted avg       0.90      0.78      0.82     63959\n",
      "\n",
      "Naive Bayes Accuracy: 0.7780609452930783\n",
      "Naive Bayes f1-score: 0.8219689834548302\n",
      "Naive Bayes Recall score: 0.6960730593607306\n"
     ]
    }
   ],
   "source": [
    "# training the model on training set\n",
    "from sklearn.naive_bayes import GaussianNB\n",
    "gnb = GaussianNB()\n",
    "gnb.fit(X_train, y_train)\n",
    "  \n",
    "# making predictions on the testing set\n",
    "y_pred = gnb.predict(X_test)\n",
    "  \n",
    "# comparing actual response values (y_test) with predicted response values (y_pred)\n",
    "from sklearn import metrics\n",
    "\n",
    "print('Naive Bayes confusion matrix' , '\\n' , confusion_matrix(y_test, y_pred)) # Calculate the confusion matrix\n",
    "print('Niave Bayes classification report' , '\\n' , classification_report(y_test, y_pred)) # Calculate the classification report, which gives F1 score\n",
    "print('Naive Bayes Accuracy:' , accuracy_score(y_test, y_pred))\n",
    "print('Naive Bayes f1-score:', f1_score(y_test, y_pred, average='weighted'))\n",
    "print('Naive Bayes Recall score:' , recall_score(y_test, y_pred))"
   ]
  },
  {
   "cell_type": "markdown",
   "id": "6c350060",
   "metadata": {},
   "source": [
    "### Decision Tree"
   ]
  },
  {
   "cell_type": "code",
   "execution_count": 61,
   "id": "af7b2fa9",
   "metadata": {},
   "outputs": [
    {
     "name": "stdout",
     "output_type": "stream",
     "text": [
      "Decision Tree confusion matrix \n",
      " [[57925   559]\n",
      " [ 4958   517]]\n",
      "Decision Tree classification report \n",
      "               precision    recall  f1-score   support\n",
      "\n",
      "           0       0.92      0.99      0.95     58484\n",
      "           1       0.48      0.09      0.16      5475\n",
      "\n",
      "    accuracy                           0.91     63959\n",
      "   macro avg       0.70      0.54      0.56     63959\n",
      "weighted avg       0.88      0.91      0.89     63959\n",
      "\n",
      "Decision Tree Accuracy: 0.9137416157225723\n",
      "Decision Tree f1-score: 0.886343576592258\n",
      "Decision Tree Recall score: 0.09442922374429223\n"
     ]
    }
   ],
   "source": [
    "from sklearn.tree import DecisionTreeClassifier\n",
    "\n",
    "dtc = DecisionTreeClassifier(random_state=0, max_depth=10)\n",
    "dtc.fit(X_train, y_train)\n",
    "y_pred = dtc.predict(X_test)\n",
    "\n",
    "\n",
    "print('Decision Tree confusion matrix' , '\\n' , confusion_matrix(y_test, y_pred)) # Calculate the confusion matrix\n",
    "print('Decision Tree classification report' , '\\n' , classification_report(y_test, y_pred)) # Calculate the classification report, which gives F1 score\n",
    "print('Decision Tree Accuracy:' , accuracy_score(y_test, y_pred))\n",
    "print('Decision Tree f1-score:', f1_score(y_test, y_pred, average='weighted'))\n",
    "print('Decision Tree Recall score:' , recall_score(y_test, y_pred))"
   ]
  },
  {
   "cell_type": "markdown",
   "id": "b563671c",
   "metadata": {},
   "source": [
    "### Random Forest"
   ]
  },
  {
   "cell_type": "code",
   "execution_count": 62,
   "id": "2b7f9de5",
   "metadata": {},
   "outputs": [
    {
     "name": "stdout",
     "output_type": "stream",
     "text": [
      "Random Forest confusion matrix \n",
      " [[57325  1159]\n",
      " [ 4886   589]]\n",
      "Random Forest classification report \n",
      "               precision    recall  f1-score   support\n",
      "\n",
      "           0       0.92      0.98      0.95     58484\n",
      "           1       0.34      0.11      0.16      5475\n",
      "\n",
      "    accuracy                           0.91     63959\n",
      "   macro avg       0.63      0.54      0.56     63959\n",
      "weighted avg       0.87      0.91      0.88     63959\n",
      "\n",
      "Random Forest Accuracy: 0.9054863271783486\n",
      "Random Forest f1-score: 0.8825615114732864\n",
      "Random Forest Recall score: 0.10757990867579909\n"
     ]
    }
   ],
   "source": [
    "from sklearn.ensemble import RandomForestClassifier\n",
    "\n",
    "clf = RandomForestClassifier(n_estimators=300, random_state = 1,n_jobs=-1)\n",
    "clf.fit(X_train, y_train)\n",
    "y_pred = clf.predict(X_test)\n",
    "y_pred_prob = model_res.predict_proba(X_test)\n",
    "y_pred_prob[:1]\n",
    "\n",
    "print('Random Forest confusion matrix' , '\\n' , confusion_matrix(y_test, y_pred)) # Calculate the confusion matrix\n",
    "print('Random Forest classification report' , '\\n' , classification_report(y_test, y_pred)) # Calculate the classification report, which gives F1 score\n",
    "print('Random Forest Accuracy:' , accuracy_score(y_test, y_pred))\n",
    "print('Random Forest f1-score:', f1_score(y_test, y_pred, average='weighted'))\n",
    "print('Random Forest Recall score:' , recall_score(y_test, y_pred))"
   ]
  },
  {
   "cell_type": "code",
   "execution_count": 40,
   "id": "8b18fc70",
   "metadata": {},
   "outputs": [
    {
     "name": "stdout",
     "output_type": "stream",
     "text": [
      "30\n"
     ]
    },
    {
     "data": {
      "image/png": "[encoded data removed]",
      "text/plain": [
       "<Figure size 720x720 with 1 Axes>"
      ]
     },
     "metadata": {
      "needs_background": "light"
     },
     "output_type": "display_data"
    }
   ],
   "source": [
    "feature_importance = clf.feature_importances_\n",
    "# make importances relative to max importance\n",
    "feature_importance = 100.0 * (feature_importance / feature_importance.max())[:30]\n",
    "sorted_idx = np.argsort(feature_importance)[:30]\n",
    "\n",
    "pos = np.arange(sorted_idx.shape[0]) + .5\n",
    "print(pos.size)\n",
    "sorted_idx.size\n",
    "plt.figure(figsize=(10,10))\n",
    "plt.barh(pos, feature_importance[sorted_idx], align='center')\n",
    "plt.yticks(pos, X.columns[sorted_idx])\n",
    "plt.xlabel('Relative Importance')\n",
    "plt.title('Variable Importance')\n",
    "plt.show()"
   ]
  },
  {
   "cell_type": "markdown",
   "id": "f7449cb3",
   "metadata": {},
   "source": [
    "### Support Vector Machines -- might take awhile"
   ]
  },
  {
   "cell_type": "code",
   "execution_count": 56,
   "id": "1eb87922",
   "metadata": {},
   "outputs": [
    {
     "name": "stdout",
     "output_type": "stream",
     "text": [
      "SVM confusion matrix \n",
      " [[58484     0]\n",
      " [ 5475     0]]\n",
      "SVM classification report \n",
      "               precision    recall  f1-score   support\n",
      "\n",
      "           0       0.91      1.00      0.96     58484\n",
      "           1       0.00      0.00      0.00      5475\n",
      "\n",
      "    accuracy                           0.91     63959\n",
      "   macro avg       0.46      0.50      0.48     63959\n",
      "weighted avg       0.84      0.91      0.87     63959\n",
      "\n",
      "SVM Accuracy: 0.9143982864022264\n",
      "SVM f1-score: 0.8735112563715003\n"
     ]
    },
    {
     "name": "stderr",
     "output_type": "stream",
     "text": [
      "C:\\Users\\andre\\anaconda3\\lib\\site-packages\\sklearn\\metrics\\_classification.py:1318: UndefinedMetricWarning: Precision and F-score are ill-defined and being set to 0.0 in labels with no predicted samples. Use `zero_division` parameter to control this behavior.\n",
      "  _warn_prf(average, modifier, msg_start, len(result))\n",
      "C:\\Users\\andre\\anaconda3\\lib\\site-packages\\sklearn\\metrics\\_classification.py:1318: UndefinedMetricWarning: Precision and F-score are ill-defined and being set to 0.0 in labels with no predicted samples. Use `zero_division` parameter to control this behavior.\n",
      "  _warn_prf(average, modifier, msg_start, len(result))\n",
      "C:\\Users\\andre\\anaconda3\\lib\\site-packages\\sklearn\\metrics\\_classification.py:1318: UndefinedMetricWarning: Precision and F-score are ill-defined and being set to 0.0 in labels with no predicted samples. Use `zero_division` parameter to control this behavior.\n",
      "  _warn_prf(average, modifier, msg_start, len(result))\n"
     ]
    }
   ],
   "source": [
    "from sklearn.svm import SVC\n",
    "\n",
    "svc = SVC(kernel='linear')\n",
    "svc.fit(X_train, y_train)\n",
    "y_pred = svc.predict(X_test)\n",
    "\n",
    "print('SVM confusion matrix' , '\\n' , confusion_matrix(y_test, y_pred)) # Calculate the confusion matrix\n",
    "print('SVM classification report' , '\\n' , classification_report(y_test, y_pred)) # Calculate the classification report, which gives F1 score\n",
    "print('SVM Accuracy:' , accuracy_score(y_test, y_pred))\n",
    "print('SVM f1-score:', f1_score(y_test, y_pred, average='weighted'))"
   ]
  }
 ],
 "metadata": {
  "kernelspec": {
   "display_name": "Python 3 (ipykernel)",
   "language": "python",
   "name": "python3"
  },
  "language_info": {
   "codemirror_mode": {
    "name": "ipython",
    "version": 3
   },
   "file_extension": ".py",
   "mimetype": "text/x-python",
   "name": "python",
   "nbconvert_exporter": "python",
   "pygments_lexer": "ipython3",
   "version": "3.9.12"
  }
 },
 "nbformat": 4,
 "nbformat_minor": 5
}
