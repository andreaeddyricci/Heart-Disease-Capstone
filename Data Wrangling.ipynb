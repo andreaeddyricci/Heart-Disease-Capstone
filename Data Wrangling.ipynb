{
 "cells": [
  {
   "cell_type": "markdown",
   "id": "303877dd",
   "metadata": {},
   "source": [
    "EDA for the Heart Disease Data"
   ]
  },
  {
   "cell_type": "code",
   "execution_count": 1,
   "id": "5494f9c2",
   "metadata": {},
   "outputs": [],
   "source": [
    "#imports\n",
    "import pandas as pd\n",
    "import numpy as np\n",
    "import matplotlib.pyplot as plt\n",
    "from scipy.stats import t\n",
    "from numpy.random import seed\n",
    "import seaborn as sns\n",
    "\n",
    "health = pd.read_csv('heart_2020.csv')"
   ]
  },
  {
   "cell_type": "code",
   "execution_count": 2,
   "id": "1e45a939",
   "metadata": {},
   "outputs": [
    {
     "data": {
      "text/html": [
       "<div>\n",
       "<style scoped>\n",
       "    .dataframe tbody tr th:only-of-type {\n",
       "        vertical-align: middle;\n",
       "    }\n",
       "\n",
       "    .dataframe tbody tr th {\n",
       "        vertical-align: top;\n",
       "    }\n",
       "\n",
       "    .dataframe thead th {\n",
       "        text-align: right;\n",
       "    }\n",
       "</style>\n",
       "<table border=\"1\" class=\"dataframe\">\n",
       "  <thead>\n",
       "    <tr style=\"text-align: right;\">\n",
       "      <th></th>\n",
       "      <th>HeartDisease</th>\n",
       "      <th>BMI</th>\n",
       "      <th>Smoking</th>\n",
       "      <th>AlcoholDrinking</th>\n",
       "      <th>Stroke</th>\n",
       "      <th>PhysicalHealth</th>\n",
       "      <th>MentalHealth</th>\n",
       "      <th>DiffWalking</th>\n",
       "      <th>Sex</th>\n",
       "      <th>AgeCategory</th>\n",
       "      <th>Race</th>\n",
       "      <th>Diabetic</th>\n",
       "      <th>PhysicalActivity</th>\n",
       "      <th>GenHealth</th>\n",
       "      <th>SleepTime</th>\n",
       "      <th>Asthma</th>\n",
       "      <th>KidneyDisease</th>\n",
       "      <th>SkinCancer</th>\n",
       "    </tr>\n",
       "  </thead>\n",
       "  <tbody>\n",
       "    <tr>\n",
       "      <th>0</th>\n",
       "      <td>No</td>\n",
       "      <td>16.60</td>\n",
       "      <td>Yes</td>\n",
       "      <td>No</td>\n",
       "      <td>No</td>\n",
       "      <td>3.0</td>\n",
       "      <td>30.0</td>\n",
       "      <td>No</td>\n",
       "      <td>Female</td>\n",
       "      <td>55-59</td>\n",
       "      <td>White</td>\n",
       "      <td>Yes</td>\n",
       "      <td>Yes</td>\n",
       "      <td>Very good</td>\n",
       "      <td>5.0</td>\n",
       "      <td>Yes</td>\n",
       "      <td>No</td>\n",
       "      <td>Yes</td>\n",
       "    </tr>\n",
       "    <tr>\n",
       "      <th>1</th>\n",
       "      <td>No</td>\n",
       "      <td>20.34</td>\n",
       "      <td>No</td>\n",
       "      <td>No</td>\n",
       "      <td>Yes</td>\n",
       "      <td>0.0</td>\n",
       "      <td>0.0</td>\n",
       "      <td>No</td>\n",
       "      <td>Female</td>\n",
       "      <td>80 or older</td>\n",
       "      <td>White</td>\n",
       "      <td>No</td>\n",
       "      <td>Yes</td>\n",
       "      <td>Very good</td>\n",
       "      <td>7.0</td>\n",
       "      <td>No</td>\n",
       "      <td>No</td>\n",
       "      <td>No</td>\n",
       "    </tr>\n",
       "    <tr>\n",
       "      <th>2</th>\n",
       "      <td>No</td>\n",
       "      <td>26.58</td>\n",
       "      <td>Yes</td>\n",
       "      <td>No</td>\n",
       "      <td>No</td>\n",
       "      <td>20.0</td>\n",
       "      <td>30.0</td>\n",
       "      <td>No</td>\n",
       "      <td>Male</td>\n",
       "      <td>65-69</td>\n",
       "      <td>White</td>\n",
       "      <td>Yes</td>\n",
       "      <td>Yes</td>\n",
       "      <td>Fair</td>\n",
       "      <td>8.0</td>\n",
       "      <td>Yes</td>\n",
       "      <td>No</td>\n",
       "      <td>No</td>\n",
       "    </tr>\n",
       "    <tr>\n",
       "      <th>3</th>\n",
       "      <td>No</td>\n",
       "      <td>24.21</td>\n",
       "      <td>No</td>\n",
       "      <td>No</td>\n",
       "      <td>No</td>\n",
       "      <td>0.0</td>\n",
       "      <td>0.0</td>\n",
       "      <td>No</td>\n",
       "      <td>Female</td>\n",
       "      <td>75-79</td>\n",
       "      <td>White</td>\n",
       "      <td>No</td>\n",
       "      <td>No</td>\n",
       "      <td>Good</td>\n",
       "      <td>6.0</td>\n",
       "      <td>No</td>\n",
       "      <td>No</td>\n",
       "      <td>Yes</td>\n",
       "    </tr>\n",
       "    <tr>\n",
       "      <th>4</th>\n",
       "      <td>No</td>\n",
       "      <td>23.71</td>\n",
       "      <td>No</td>\n",
       "      <td>No</td>\n",
       "      <td>No</td>\n",
       "      <td>28.0</td>\n",
       "      <td>0.0</td>\n",
       "      <td>Yes</td>\n",
       "      <td>Female</td>\n",
       "      <td>40-44</td>\n",
       "      <td>White</td>\n",
       "      <td>No</td>\n",
       "      <td>Yes</td>\n",
       "      <td>Very good</td>\n",
       "      <td>8.0</td>\n",
       "      <td>No</td>\n",
       "      <td>No</td>\n",
       "      <td>No</td>\n",
       "    </tr>\n",
       "  </tbody>\n",
       "</table>\n",
       "</div>"
      ],
      "text/plain": [
       "  HeartDisease    BMI Smoking AlcoholDrinking Stroke  PhysicalHealth  \\\n",
       "0           No  16.60     Yes              No     No             3.0   \n",
       "1           No  20.34      No              No    Yes             0.0   \n",
       "2           No  26.58     Yes              No     No            20.0   \n",
       "3           No  24.21      No              No     No             0.0   \n",
       "4           No  23.71      No              No     No            28.0   \n",
       "\n",
       "   MentalHealth DiffWalking     Sex  AgeCategory   Race Diabetic  \\\n",
       "0          30.0          No  Female        55-59  White      Yes   \n",
       "1           0.0          No  Female  80 or older  White       No   \n",
       "2          30.0          No    Male        65-69  White      Yes   \n",
       "3           0.0          No  Female        75-79  White       No   \n",
       "4           0.0         Yes  Female        40-44  White       No   \n",
       "\n",
       "  PhysicalActivity  GenHealth  SleepTime Asthma KidneyDisease SkinCancer  \n",
       "0              Yes  Very good        5.0    Yes            No        Yes  \n",
       "1              Yes  Very good        7.0     No            No         No  \n",
       "2              Yes       Fair        8.0    Yes            No         No  \n",
       "3               No       Good        6.0     No            No        Yes  \n",
       "4              Yes  Very good        8.0     No            No         No  "
      ]
     },
     "execution_count": 2,
     "metadata": {},
     "output_type": "execute_result"
    }
   ],
   "source": [
    "#check out the columns\n",
    "health.head()"
   ]
  },
  {
   "cell_type": "markdown",
   "id": "5bb0702b",
   "metadata": {},
   "source": [
    "Column Questions\n",
    "\n",
    "HeartDisease: Respondents that have ever reported having coronary heart disease (CHD) or myocardial infarction (MI)\n",
    "\n",
    "Smoking: Have you smoked at least 100 cigarettes in your entire life? [Note: 5 packs = 100 cigarettes]\n",
    "\n",
    "AlcoholDrinking: Heavy drinkers (adult men having more than 14 drinks per week and adult women having more than 7 drinks per week\n",
    "\n",
    "Stroke: Have you ever been told you had a stroke?\n",
    "\n",
    "PhysicalHealth: Now thinking about your physical health, which includes physical illness and injury, for how many days during the past 30 was your physical health not good?\n",
    "\n",
    "MentalHealth: Thinking about your mental health, for how many days during the past 30 days was your mental health not good?\n",
    "\n",
    "DiffWalking: Do you have serious difficulty walking or climbing stairs?\n",
    "\n",
    "Sex: Are you male or female?\n"
   ]
  },
  {
   "cell_type": "code",
   "execution_count": 3,
   "id": "380bfa91",
   "metadata": {},
   "outputs": [
    {
     "data": {
      "text/plain": [
       "HeartDisease        0\n",
       "BMI                 0\n",
       "Smoking             0\n",
       "AlcoholDrinking     0\n",
       "Stroke              0\n",
       "PhysicalHealth      0\n",
       "MentalHealth        0\n",
       "DiffWalking         0\n",
       "Sex                 0\n",
       "AgeCategory         0\n",
       "Race                0\n",
       "Diabetic            0\n",
       "PhysicalActivity    0\n",
       "GenHealth           0\n",
       "SleepTime           0\n",
       "Asthma              0\n",
       "KidneyDisease       0\n",
       "SkinCancer          0\n",
       "dtype: int64"
      ]
     },
     "execution_count": 3,
     "metadata": {},
     "output_type": "execute_result"
    }
   ],
   "source": [
    "#check for missing data\n",
    "health.isnull().sum()"
   ]
  },
  {
   "cell_type": "code",
   "execution_count": 4,
   "id": "df217d47",
   "metadata": {},
   "outputs": [
    {
     "data": {
      "text/plain": [
       "HeartDisease         object\n",
       "BMI                 float64\n",
       "Smoking              object\n",
       "AlcoholDrinking      object\n",
       "Stroke               object\n",
       "PhysicalHealth      float64\n",
       "MentalHealth        float64\n",
       "DiffWalking          object\n",
       "Sex                  object\n",
       "AgeCategory          object\n",
       "Race                 object\n",
       "Diabetic             object\n",
       "PhysicalActivity     object\n",
       "GenHealth            object\n",
       "SleepTime           float64\n",
       "Asthma               object\n",
       "KidneyDisease        object\n",
       "SkinCancer           object\n",
       "dtype: object"
      ]
     },
     "execution_count": 4,
     "metadata": {},
     "output_type": "execute_result"
    }
   ],
   "source": [
    "#check the type of each column\n",
    "health.dtypes"
   ]
  },
  {
   "cell_type": "code",
   "execution_count": 5,
   "id": "2e84caff",
   "metadata": {},
   "outputs": [],
   "source": [
    "#convert yes/no columns to category type\n",
    "health['Smoking'] = health['Smoking'].astype('category')\n",
    "health['AlcoholDrinking'] = health['AlcoholDrinking'].astype('category')\n",
    "health['Stroke'] = health['Stroke'].astype('category')\n",
    "health['DiffWalking'] = health['DiffWalking'].astype('category')\n",
    "health['Sex'] = health['Sex'].astype('category')\n",
    "health['Diabetic'] = health['Diabetic'].astype('category')\n",
    "health['PhysicalActivity'] = health['PhysicalActivity'].astype('category')\n",
    "health['Asthma'] = health['Asthma'].astype('category')\n",
    "health['KidneyDisease'] = health['KidneyDisease'].astype('category')\n",
    "health['SkinCancer'] = health['SkinCancer'].astype('category')\n",
    "health['HeartDisease'] = health['HeartDisease'].astype('category')\n",
    "health['AgeCategory'] = health['AgeCategory'].astype('category')\n",
    "health['HeartDisease'] = health['HeartDisease'].astype('category')\n",
    "health['GenHealth'] = health['GenHealth'].astype('category')\n",
    "health['Race'] = health['Race'].astype('category')"
   ]
  },
  {
   "cell_type": "code",
   "execution_count": 6,
   "id": "05151051",
   "metadata": {},
   "outputs": [
    {
     "data": {
      "text/plain": [
       "HeartDisease        category\n",
       "BMI                  float64\n",
       "Smoking             category\n",
       "AlcoholDrinking     category\n",
       "Stroke              category\n",
       "PhysicalHealth       float64\n",
       "MentalHealth         float64\n",
       "DiffWalking         category\n",
       "Sex                 category\n",
       "AgeCategory         category\n",
       "Race                category\n",
       "Diabetic            category\n",
       "PhysicalActivity    category\n",
       "GenHealth           category\n",
       "SleepTime            float64\n",
       "Asthma              category\n",
       "KidneyDisease       category\n",
       "SkinCancer          category\n",
       "dtype: object"
      ]
     },
     "execution_count": 6,
     "metadata": {},
     "output_type": "execute_result"
    }
   ],
   "source": [
    "#recheck the type of each column\n",
    "health.dtypes"
   ]
  },
  {
   "cell_type": "code",
   "execution_count": 7,
   "id": "7b3515ba",
   "metadata": {},
   "outputs": [
    {
     "data": {
      "text/html": [
       "<div>\n",
       "<style scoped>\n",
       "    .dataframe tbody tr th:only-of-type {\n",
       "        vertical-align: middle;\n",
       "    }\n",
       "\n",
       "    .dataframe tbody tr th {\n",
       "        vertical-align: top;\n",
       "    }\n",
       "\n",
       "    .dataframe thead th {\n",
       "        text-align: right;\n",
       "    }\n",
       "</style>\n",
       "<table border=\"1\" class=\"dataframe\">\n",
       "  <thead>\n",
       "    <tr style=\"text-align: right;\">\n",
       "      <th></th>\n",
       "      <th>BMI</th>\n",
       "      <th>PhysicalHealth</th>\n",
       "      <th>MentalHealth</th>\n",
       "      <th>SleepTime</th>\n",
       "    </tr>\n",
       "  </thead>\n",
       "  <tbody>\n",
       "    <tr>\n",
       "      <th>count</th>\n",
       "      <td>319795.000000</td>\n",
       "      <td>319795.00000</td>\n",
       "      <td>319795.000000</td>\n",
       "      <td>319795.000000</td>\n",
       "    </tr>\n",
       "    <tr>\n",
       "      <th>mean</th>\n",
       "      <td>28.325399</td>\n",
       "      <td>3.37171</td>\n",
       "      <td>3.898366</td>\n",
       "      <td>7.097075</td>\n",
       "    </tr>\n",
       "    <tr>\n",
       "      <th>std</th>\n",
       "      <td>6.356100</td>\n",
       "      <td>7.95085</td>\n",
       "      <td>7.955235</td>\n",
       "      <td>1.436007</td>\n",
       "    </tr>\n",
       "    <tr>\n",
       "      <th>min</th>\n",
       "      <td>12.020000</td>\n",
       "      <td>0.00000</td>\n",
       "      <td>0.000000</td>\n",
       "      <td>1.000000</td>\n",
       "    </tr>\n",
       "    <tr>\n",
       "      <th>25%</th>\n",
       "      <td>24.030000</td>\n",
       "      <td>0.00000</td>\n",
       "      <td>0.000000</td>\n",
       "      <td>6.000000</td>\n",
       "    </tr>\n",
       "    <tr>\n",
       "      <th>50%</th>\n",
       "      <td>27.340000</td>\n",
       "      <td>0.00000</td>\n",
       "      <td>0.000000</td>\n",
       "      <td>7.000000</td>\n",
       "    </tr>\n",
       "    <tr>\n",
       "      <th>75%</th>\n",
       "      <td>31.420000</td>\n",
       "      <td>2.00000</td>\n",
       "      <td>3.000000</td>\n",
       "      <td>8.000000</td>\n",
       "    </tr>\n",
       "    <tr>\n",
       "      <th>max</th>\n",
       "      <td>94.850000</td>\n",
       "      <td>30.00000</td>\n",
       "      <td>30.000000</td>\n",
       "      <td>24.000000</td>\n",
       "    </tr>\n",
       "  </tbody>\n",
       "</table>\n",
       "</div>"
      ],
      "text/plain": [
       "                 BMI  PhysicalHealth   MentalHealth      SleepTime\n",
       "count  319795.000000    319795.00000  319795.000000  319795.000000\n",
       "mean       28.325399         3.37171       3.898366       7.097075\n",
       "std         6.356100         7.95085       7.955235       1.436007\n",
       "min        12.020000         0.00000       0.000000       1.000000\n",
       "25%        24.030000         0.00000       0.000000       6.000000\n",
       "50%        27.340000         0.00000       0.000000       7.000000\n",
       "75%        31.420000         2.00000       3.000000       8.000000\n",
       "max        94.850000        30.00000      30.000000      24.000000"
      ]
     },
     "execution_count": 7,
     "metadata": {},
     "output_type": "execute_result"
    }
   ],
   "source": [
    "#get baseline statistics for the numerical columns\n",
    "health.describe()"
   ]
  },
  {
   "cell_type": "markdown",
   "id": "3656033a",
   "metadata": {},
   "source": [
    "I will be to investigate more on the BMI with a max of 94.85."
   ]
  },
  {
   "cell_type": "code",
   "execution_count": 8,
   "id": "7513797a",
   "metadata": {},
   "outputs": [],
   "source": [
    "#map yes to 1 and no to 0\n",
    "health.HeartDisease = health.HeartDisease.map(dict(Yes=1, No=0))\n",
    "health.Smoking = health.Smoking.map(dict(Yes=1, No=0))\n",
    "health.DiffWalking = health.DiffWalking.map(dict(Yes=1, No=0))\n",
    "health.Diabetic = health.Diabetic.map(dict(Yes=1, No=0))\n",
    "health.PhysicalActivity = health.PhysicalActivity.map(dict(Yes=1, No=0))\n",
    "health.Asthma = health.Asthma.map(dict(Yes=1, No=0))\n",
    "health.KidneyDisease = health.KidneyDisease.map(dict(Yes=1, No=0))\n",
    "health.SkinCancer = health.SkinCancer.map(dict(Yes=1, No=0))\n",
    "health.AlcoholDrinking = health.AlcoholDrinking.map(dict(Yes=1, No=0))\n",
    "health.Stroke = health.Stroke.map(dict(Yes=1, No=0))"
   ]
  },
  {
   "cell_type": "code",
   "execution_count": 9,
   "id": "90a58100",
   "metadata": {},
   "outputs": [],
   "source": [
    "#map Female to 1 and Male to 0\n",
    "health.Sex = health.Sex.map(dict(Female=1, Male=0))"
   ]
  },
  {
   "cell_type": "code",
   "execution_count": 10,
   "id": "2ce6c886",
   "metadata": {},
   "outputs": [
    {
     "data": {
      "text/plain": [
       "Very good    113858\n",
       "Good          93129\n",
       "Excellent     66842\n",
       "Fair          34677\n",
       "Poor          11289\n",
       "Name: GenHealth, dtype: int64"
      ]
     },
     "execution_count": 10,
     "metadata": {},
     "output_type": "execute_result"
    }
   ],
   "source": [
    "health.GenHealth.value_counts()"
   ]
  },
  {
   "cell_type": "code",
   "execution_count": 11,
   "id": "c71cf561",
   "metadata": {},
   "outputs": [],
   "source": [
    "#map GenHealth to 1-5\n",
    "#health.GenHealth = health.GenHealth.map(dict(Poor=1, Fair=2, Good=3, Excellent=5))\n",
    "mapping = {'Poor':'1', 'Fair':'2', 'Good':'3', 'Very good' : '4', 'Excellent':'5'}\n",
    "health['GenHealth_Number'] = health['GenHealth'].replace(mapping)"
   ]
  },
  {
   "cell_type": "code",
   "execution_count": 12,
   "id": "b1781a98",
   "metadata": {},
   "outputs": [
    {
     "data": {
      "text/html": [
       "<div>\n",
       "<style scoped>\n",
       "    .dataframe tbody tr th:only-of-type {\n",
       "        vertical-align: middle;\n",
       "    }\n",
       "\n",
       "    .dataframe tbody tr th {\n",
       "        vertical-align: top;\n",
       "    }\n",
       "\n",
       "    .dataframe thead th {\n",
       "        text-align: right;\n",
       "    }\n",
       "</style>\n",
       "<table border=\"1\" class=\"dataframe\">\n",
       "  <thead>\n",
       "    <tr style=\"text-align: right;\">\n",
       "      <th></th>\n",
       "      <th>HeartDisease</th>\n",
       "      <th>BMI</th>\n",
       "      <th>Smoking</th>\n",
       "      <th>AlcoholDrinking</th>\n",
       "      <th>Stroke</th>\n",
       "      <th>PhysicalHealth</th>\n",
       "      <th>MentalHealth</th>\n",
       "      <th>DiffWalking</th>\n",
       "      <th>Sex</th>\n",
       "      <th>AgeCategory</th>\n",
       "      <th>Race</th>\n",
       "      <th>Diabetic</th>\n",
       "      <th>PhysicalActivity</th>\n",
       "      <th>GenHealth</th>\n",
       "      <th>SleepTime</th>\n",
       "      <th>Asthma</th>\n",
       "      <th>KidneyDisease</th>\n",
       "      <th>SkinCancer</th>\n",
       "      <th>GenHealth_Number</th>\n",
       "    </tr>\n",
       "  </thead>\n",
       "  <tbody>\n",
       "    <tr>\n",
       "      <th>0</th>\n",
       "      <td>0</td>\n",
       "      <td>16.60</td>\n",
       "      <td>1</td>\n",
       "      <td>0</td>\n",
       "      <td>0</td>\n",
       "      <td>3.0</td>\n",
       "      <td>30.0</td>\n",
       "      <td>0</td>\n",
       "      <td>1</td>\n",
       "      <td>55-59</td>\n",
       "      <td>White</td>\n",
       "      <td>1.0</td>\n",
       "      <td>1</td>\n",
       "      <td>Very good</td>\n",
       "      <td>5.0</td>\n",
       "      <td>1</td>\n",
       "      <td>0</td>\n",
       "      <td>1</td>\n",
       "      <td>4</td>\n",
       "    </tr>\n",
       "    <tr>\n",
       "      <th>1</th>\n",
       "      <td>0</td>\n",
       "      <td>20.34</td>\n",
       "      <td>0</td>\n",
       "      <td>0</td>\n",
       "      <td>1</td>\n",
       "      <td>0.0</td>\n",
       "      <td>0.0</td>\n",
       "      <td>0</td>\n",
       "      <td>1</td>\n",
       "      <td>80 or older</td>\n",
       "      <td>White</td>\n",
       "      <td>0.0</td>\n",
       "      <td>1</td>\n",
       "      <td>Very good</td>\n",
       "      <td>7.0</td>\n",
       "      <td>0</td>\n",
       "      <td>0</td>\n",
       "      <td>0</td>\n",
       "      <td>4</td>\n",
       "    </tr>\n",
       "    <tr>\n",
       "      <th>2</th>\n",
       "      <td>0</td>\n",
       "      <td>26.58</td>\n",
       "      <td>1</td>\n",
       "      <td>0</td>\n",
       "      <td>0</td>\n",
       "      <td>20.0</td>\n",
       "      <td>30.0</td>\n",
       "      <td>0</td>\n",
       "      <td>0</td>\n",
       "      <td>65-69</td>\n",
       "      <td>White</td>\n",
       "      <td>1.0</td>\n",
       "      <td>1</td>\n",
       "      <td>Fair</td>\n",
       "      <td>8.0</td>\n",
       "      <td>1</td>\n",
       "      <td>0</td>\n",
       "      <td>0</td>\n",
       "      <td>2</td>\n",
       "    </tr>\n",
       "    <tr>\n",
       "      <th>3</th>\n",
       "      <td>0</td>\n",
       "      <td>24.21</td>\n",
       "      <td>0</td>\n",
       "      <td>0</td>\n",
       "      <td>0</td>\n",
       "      <td>0.0</td>\n",
       "      <td>0.0</td>\n",
       "      <td>0</td>\n",
       "      <td>1</td>\n",
       "      <td>75-79</td>\n",
       "      <td>White</td>\n",
       "      <td>0.0</td>\n",
       "      <td>0</td>\n",
       "      <td>Good</td>\n",
       "      <td>6.0</td>\n",
       "      <td>0</td>\n",
       "      <td>0</td>\n",
       "      <td>1</td>\n",
       "      <td>3</td>\n",
       "    </tr>\n",
       "    <tr>\n",
       "      <th>4</th>\n",
       "      <td>0</td>\n",
       "      <td>23.71</td>\n",
       "      <td>0</td>\n",
       "      <td>0</td>\n",
       "      <td>0</td>\n",
       "      <td>28.0</td>\n",
       "      <td>0.0</td>\n",
       "      <td>1</td>\n",
       "      <td>1</td>\n",
       "      <td>40-44</td>\n",
       "      <td>White</td>\n",
       "      <td>0.0</td>\n",
       "      <td>1</td>\n",
       "      <td>Very good</td>\n",
       "      <td>8.0</td>\n",
       "      <td>0</td>\n",
       "      <td>0</td>\n",
       "      <td>0</td>\n",
       "      <td>4</td>\n",
       "    </tr>\n",
       "  </tbody>\n",
       "</table>\n",
       "</div>"
      ],
      "text/plain": [
       "  HeartDisease    BMI Smoking AlcoholDrinking Stroke  PhysicalHealth  \\\n",
       "0            0  16.60       1               0      0             3.0   \n",
       "1            0  20.34       0               0      1             0.0   \n",
       "2            0  26.58       1               0      0            20.0   \n",
       "3            0  24.21       0               0      0             0.0   \n",
       "4            0  23.71       0               0      0            28.0   \n",
       "\n",
       "   MentalHealth DiffWalking Sex  AgeCategory   Race  Diabetic  \\\n",
       "0          30.0           0   1        55-59  White       1.0   \n",
       "1           0.0           0   1  80 or older  White       0.0   \n",
       "2          30.0           0   0        65-69  White       1.0   \n",
       "3           0.0           0   1        75-79  White       0.0   \n",
       "4           0.0           1   1        40-44  White       0.0   \n",
       "\n",
       "  PhysicalActivity  GenHealth  SleepTime Asthma KidneyDisease SkinCancer  \\\n",
       "0                1  Very good        5.0      1             0          1   \n",
       "1                1  Very good        7.0      0             0          0   \n",
       "2                1       Fair        8.0      1             0          0   \n",
       "3                0       Good        6.0      0             0          1   \n",
       "4                1  Very good        8.0      0             0          0   \n",
       "\n",
       "  GenHealth_Number  \n",
       "0                4  \n",
       "1                4  \n",
       "2                2  \n",
       "3                3  \n",
       "4                4  "
      ]
     },
     "execution_count": 12,
     "metadata": {},
     "output_type": "execute_result"
    }
   ],
   "source": [
    "health.head()"
   ]
  },
  {
   "cell_type": "code",
   "execution_count": 13,
   "id": "3e623216",
   "metadata": {},
   "outputs": [
    {
     "data": {
      "text/plain": [
       "White                             245212\n",
       "Hispanic                           27446\n",
       "Black                              22939\n",
       "Other                              10928\n",
       "Asian                               8068\n",
       "American Indian/Alaskan Native      5202\n",
       "Name: Race, dtype: int64"
      ]
     },
     "execution_count": 13,
     "metadata": {},
     "output_type": "execute_result"
    }
   ],
   "source": [
    "health.Race.value_counts()"
   ]
  },
  {
   "cell_type": "code",
   "execution_count": 34,
   "id": "e6c0f13b",
   "metadata": {},
   "outputs": [
    {
     "data": {
      "text/plain": [
       "(array([0, 1, 2, 3, 4, 5]),\n",
       " [Text(0, 0, 'American Indian/Alaskan Native'),\n",
       "  Text(1, 0, 'Asian'),\n",
       "  Text(2, 0, 'Black'),\n",
       "  Text(3, 0, 'Hispanic'),\n",
       "  Text(4, 0, 'Other'),\n",
       "  Text(5, 0, 'White')])"
      ]
     },
     "execution_count": 34,
     "metadata": {},
     "output_type": "execute_result"
    },
    {
     "data": {
      "image/png": "[encoded data removed]",
      "text/plain": [
       "<Figure size 360x360 with 1 Axes>"
      ]
     },
     "metadata": {
      "needs_background": "light"
     },
     "output_type": "display_data"
    }
   ],
   "source": [
    "sns.catplot(x = 'Race', data = health, kind = 'count')\n",
    "plt.xticks(rotation = 90)"
   ]
  },
  {
   "cell_type": "code",
   "execution_count": 15,
   "id": "67dcf262",
   "metadata": {},
   "outputs": [
    {
     "data": {
      "text/plain": [
       "Very good    113858\n",
       "Good          93129\n",
       "Excellent     66842\n",
       "Fair          34677\n",
       "Poor          11289\n",
       "Name: GenHealth, dtype: int64"
      ]
     },
     "execution_count": 15,
     "metadata": {},
     "output_type": "execute_result"
    }
   ],
   "source": [
    "health.GenHealth.value_counts()"
   ]
  },
  {
   "cell_type": "code",
   "execution_count": 16,
   "id": "0a5ea353",
   "metadata": {},
   "outputs": [
    {
     "data": {
      "text/plain": [
       "7.0     97751\n",
       "8.0     97602\n",
       "6.0     66721\n",
       "5.0     19184\n",
       "9.0     16041\n",
       "10.0     7796\n",
       "4.0      7750\n",
       "12.0     2205\n",
       "3.0      1992\n",
       "2.0       788\n",
       "1.0       551\n",
       "11.0      415\n",
       "14.0      243\n",
       "16.0      236\n",
       "15.0      189\n",
       "18.0      102\n",
       "13.0       97\n",
       "20.0       64\n",
       "24.0       30\n",
       "17.0       21\n",
       "22.0        9\n",
       "19.0        3\n",
       "23.0        3\n",
       "21.0        2\n",
       "Name: SleepTime, dtype: int64"
      ]
     },
     "execution_count": 16,
     "metadata": {},
     "output_type": "execute_result"
    }
   ],
   "source": [
    "health.SleepTime.value_counts()"
   ]
  },
  {
   "cell_type": "code",
   "execution_count": 17,
   "id": "c74d2ccb",
   "metadata": {},
   "outputs": [
    {
     "data": {
      "text/plain": [
       "7.0     0.305668\n",
       "8.0     0.305202\n",
       "6.0     0.208637\n",
       "5.0     0.059988\n",
       "9.0     0.050160\n",
       "10.0    0.024378\n",
       "4.0     0.024234\n",
       "12.0    0.006895\n",
       "3.0     0.006229\n",
       "2.0     0.002464\n",
       "1.0     0.001723\n",
       "11.0    0.001298\n",
       "14.0    0.000760\n",
       "16.0    0.000738\n",
       "15.0    0.000591\n",
       "18.0    0.000319\n",
       "13.0    0.000303\n",
       "20.0    0.000200\n",
       "24.0    0.000094\n",
       "17.0    0.000066\n",
       "22.0    0.000028\n",
       "19.0    0.000009\n",
       "23.0    0.000009\n",
       "21.0    0.000006\n",
       "Name: SleepTime, dtype: float64"
      ]
     },
     "execution_count": 17,
     "metadata": {},
     "output_type": "execute_result"
    }
   ],
   "source": [
    "health.SleepTime.value_counts(normalize=True)"
   ]
  },
  {
   "cell_type": "code",
   "execution_count": 18,
   "id": "a1204a06",
   "metadata": {},
   "outputs": [
    {
     "data": {
      "text/plain": [
       "Text(0, 0.5, 'Count')"
      ]
     },
     "execution_count": 18,
     "metadata": {},
     "output_type": "execute_result"
    },
    {
     "data": {
      "image/png": "[encoded data removed]",
      "text/plain": [
       "<Figure size 432x288 with 1 Axes>"
      ]
     },
     "metadata": {
      "needs_background": "light"
     },
     "output_type": "display_data"
    }
   ],
   "source": [
    "plt.hist(health['SleepTime'], bins=10)\n",
    "plt.xlabel(\"Hours of Sleep per Night\")\n",
    "plt.ylabel(\"Number of People\")"
   ]
  },
  {
   "cell_type": "code",
   "execution_count": 19,
   "id": "5cfb7a9e",
   "metadata": {},
   "outputs": [],
   "source": [
    "#create groups for sleeping: SleepGroups\n",
    "#1-6, 7-12, 13-18, 19-24\n",
    "health['SleepGroups'] = pd.cut(health['SleepTime'], right=False, bins=4, \n",
    "                      labels=['1-6', '7-12', '13-18','19-24'])"
   ]
  },
  {
   "cell_type": "code",
   "execution_count": 20,
   "id": "8ef939c8",
   "metadata": {},
   "outputs": [
    {
     "data": {
      "text/html": [
       "<div>\n",
       "<style scoped>\n",
       "    .dataframe tbody tr th:only-of-type {\n",
       "        vertical-align: middle;\n",
       "    }\n",
       "\n",
       "    .dataframe tbody tr th {\n",
       "        vertical-align: top;\n",
       "    }\n",
       "\n",
       "    .dataframe thead th {\n",
       "        text-align: right;\n",
       "    }\n",
       "</style>\n",
       "<table border=\"1\" class=\"dataframe\">\n",
       "  <thead>\n",
       "    <tr style=\"text-align: right;\">\n",
       "      <th></th>\n",
       "      <th>SleepTime</th>\n",
       "      <th>SleepGroups</th>\n",
       "    </tr>\n",
       "  </thead>\n",
       "  <tbody>\n",
       "    <tr>\n",
       "      <th>0</th>\n",
       "      <td>5.0</td>\n",
       "      <td>1-6</td>\n",
       "    </tr>\n",
       "    <tr>\n",
       "      <th>1</th>\n",
       "      <td>7.0</td>\n",
       "      <td>7-12</td>\n",
       "    </tr>\n",
       "    <tr>\n",
       "      <th>2</th>\n",
       "      <td>8.0</td>\n",
       "      <td>7-12</td>\n",
       "    </tr>\n",
       "    <tr>\n",
       "      <th>3</th>\n",
       "      <td>6.0</td>\n",
       "      <td>1-6</td>\n",
       "    </tr>\n",
       "    <tr>\n",
       "      <th>4</th>\n",
       "      <td>8.0</td>\n",
       "      <td>7-12</td>\n",
       "    </tr>\n",
       "    <tr>\n",
       "      <th>5</th>\n",
       "      <td>12.0</td>\n",
       "      <td>7-12</td>\n",
       "    </tr>\n",
       "    <tr>\n",
       "      <th>6</th>\n",
       "      <td>4.0</td>\n",
       "      <td>1-6</td>\n",
       "    </tr>\n",
       "    <tr>\n",
       "      <th>7</th>\n",
       "      <td>9.0</td>\n",
       "      <td>7-12</td>\n",
       "    </tr>\n",
       "    <tr>\n",
       "      <th>8</th>\n",
       "      <td>5.0</td>\n",
       "      <td>1-6</td>\n",
       "    </tr>\n",
       "    <tr>\n",
       "      <th>9</th>\n",
       "      <td>10.0</td>\n",
       "      <td>7-12</td>\n",
       "    </tr>\n",
       "  </tbody>\n",
       "</table>\n",
       "</div>"
      ],
      "text/plain": [
       "   SleepTime SleepGroups\n",
       "0        5.0         1-6\n",
       "1        7.0        7-12\n",
       "2        8.0        7-12\n",
       "3        6.0         1-6\n",
       "4        8.0        7-12\n",
       "5       12.0        7-12\n",
       "6        4.0         1-6\n",
       "7        9.0        7-12\n",
       "8        5.0         1-6\n",
       "9       10.0        7-12"
      ]
     },
     "execution_count": 20,
     "metadata": {},
     "output_type": "execute_result"
    }
   ],
   "source": [
    "health[['SleepTime','SleepGroups']].head(10)"
   ]
  },
  {
   "cell_type": "code",
   "execution_count": 22,
   "id": "7934e440",
   "metadata": {},
   "outputs": [
    {
     "data": {
      "image/png": "[encoded data removed]",
      "text/plain": [
       "<Figure size 432x288 with 1 Axes>"
      ]
     },
     "metadata": {
      "needs_background": "light"
     },
     "output_type": "display_data"
    }
   ],
   "source": [
    "_ = plt.hist(health.BMI)\n",
    "plt.xlabel(\"BMI\")\n",
    "plt.ylabel(\"Number of People\")\n",
    "plt.show()"
   ]
  },
  {
   "cell_type": "code",
   "execution_count": 23,
   "id": "e1706cf0",
   "metadata": {},
   "outputs": [
    {
     "data": {
      "image/png": "[encoded data removed]",
      "text/plain": [
       "<Figure size 432x288 with 1 Axes>"
      ]
     },
     "metadata": {
      "needs_background": "light"
     },
     "output_type": "display_data"
    }
   ],
   "source": [
    "_ = plt.hist(health.PhysicalHealth)\n",
    "plt.xlabel(\"Days during the past 30 with poor physical health\")\n",
    "plt.ylabel(\"Number of People\")\n",
    "plt.show()"
   ]
  },
  {
   "cell_type": "code",
   "execution_count": 24,
   "id": "94df1444",
   "metadata": {},
   "outputs": [
    {
     "data": {
      "image/png": "[encoded data removed]",
      "text/plain": [
       "<Figure size 432x288 with 1 Axes>"
      ]
     },
     "metadata": {
      "needs_background": "light"
     },
     "output_type": "display_data"
    }
   ],
   "source": [
    "_ = plt.hist(health.MentalHealth)\n",
    "plt.xlabel(\"Days during the past 30 with poor mental health\")\n",
    "plt.ylabel(\"Number of People\")\n",
    "plt.show()"
   ]
  },
  {
   "cell_type": "code",
   "execution_count": 47,
   "id": "33a1233f",
   "metadata": {},
   "outputs": [
    {
     "data": {
      "text/plain": [
       "<seaborn.axisgrid.FacetGrid at 0x1e312c2cf70>"
      ]
     },
     "execution_count": 47,
     "metadata": {},
     "output_type": "execute_result"
    },
    {
     "data": {
      "image/png": "[encoded data removed]",
      "text/plain": [
       "<Figure size 360x360 with 1 Axes>"
      ]
     },
     "metadata": {
      "needs_background": "light"
     },
     "output_type": "display_data"
    }
   ],
   "source": [
    "sns.catplot(x = 'GenHealth', y = 'BMI', data = health, kind = 'box', order=['Poor','Fair','Good','Very good','Excellent'],whis=[5,95])"
   ]
  },
  {
   "cell_type": "markdown",
   "id": "162eafc2",
   "metadata": {},
   "source": [
    "There appears to be many outliers and not much difference between the groups."
   ]
  },
  {
   "cell_type": "code",
   "execution_count": 26,
   "id": "5da753b1",
   "metadata": {},
   "outputs": [],
   "source": [
    "#create groups for BMI: BMIGroups\n",
    "health['BMIGroups'] = pd.cut(health['BMI'],  bins=[0,16,18.5,25,30,35,40,np.inf], \n",
    "                      labels=['Severe Thinness', 'Thinness', 'Normal','Overweight','Obese','Severely Obese','Morbidly Obese'])"
   ]
  },
  {
   "cell_type": "code",
   "execution_count": 27,
   "id": "aededa6e",
   "metadata": {},
   "outputs": [
    {
     "data": {
      "text/plain": [
       "Overweight         0.357588\n",
       "Normal             0.305752\n",
       "Obese              0.191276\n",
       "Severely Obese     0.078266\n",
       "Morbidly Obese     0.051127\n",
       "Thinness           0.013828\n",
       "Severe Thinness    0.002164\n",
       "Name: BMIGroups, dtype: float64"
      ]
     },
     "execution_count": 27,
     "metadata": {},
     "output_type": "execute_result"
    }
   ],
   "source": [
    "health['BMIGroups'].value_counts(normalize=True)"
   ]
  },
  {
   "cell_type": "code",
   "execution_count": 41,
   "id": "a1de41d7",
   "metadata": {},
   "outputs": [
    {
     "data": {
      "text/html": [
       "<div>\n",
       "<style scoped>\n",
       "    .dataframe tbody tr th:only-of-type {\n",
       "        vertical-align: middle;\n",
       "    }\n",
       "\n",
       "    .dataframe tbody tr th {\n",
       "        vertical-align: top;\n",
       "    }\n",
       "\n",
       "    .dataframe thead th {\n",
       "        text-align: right;\n",
       "    }\n",
       "</style>\n",
       "<table border=\"1\" class=\"dataframe\">\n",
       "  <thead>\n",
       "    <tr style=\"text-align: right;\">\n",
       "      <th></th>\n",
       "      <th>HeartDisease</th>\n",
       "      <th>BMI</th>\n",
       "      <th>Smoking</th>\n",
       "      <th>AlcoholDrinking</th>\n",
       "      <th>Stroke</th>\n",
       "      <th>PhysicalHealth</th>\n",
       "      <th>MentalHealth</th>\n",
       "      <th>DiffWalking</th>\n",
       "      <th>Sex</th>\n",
       "      <th>AgeCategory</th>\n",
       "      <th>...</th>\n",
       "      <th>Diabetic</th>\n",
       "      <th>PhysicalActivity</th>\n",
       "      <th>GenHealth</th>\n",
       "      <th>SleepTime</th>\n",
       "      <th>Asthma</th>\n",
       "      <th>KidneyDisease</th>\n",
       "      <th>SkinCancer</th>\n",
       "      <th>GenHealth_Number</th>\n",
       "      <th>SleepGroups</th>\n",
       "      <th>BMIGroups</th>\n",
       "    </tr>\n",
       "  </thead>\n",
       "  <tbody>\n",
       "    <tr>\n",
       "      <th>126896</th>\n",
       "      <td>0</td>\n",
       "      <td>94.85</td>\n",
       "      <td>0</td>\n",
       "      <td>0</td>\n",
       "      <td>0</td>\n",
       "      <td>0.0</td>\n",
       "      <td>0.0</td>\n",
       "      <td>0</td>\n",
       "      <td>0</td>\n",
       "      <td>35-39</td>\n",
       "      <td>...</td>\n",
       "      <td>0.0</td>\n",
       "      <td>1</td>\n",
       "      <td>Excellent</td>\n",
       "      <td>7.0</td>\n",
       "      <td>0</td>\n",
       "      <td>0</td>\n",
       "      <td>0</td>\n",
       "      <td>5</td>\n",
       "      <td>7-12</td>\n",
       "      <td>Morbidly Obese</td>\n",
       "    </tr>\n",
       "  </tbody>\n",
       "</table>\n",
       "<p>1 rows × 21 columns</p>\n",
       "</div>"
      ],
      "text/plain": [
       "       HeartDisease    BMI Smoking AlcoholDrinking Stroke  PhysicalHealth  \\\n",
       "126896            0  94.85       0               0      0             0.0   \n",
       "\n",
       "        MentalHealth DiffWalking Sex AgeCategory  ... Diabetic  \\\n",
       "126896           0.0           0   0       35-39  ...      0.0   \n",
       "\n",
       "        PhysicalActivity  GenHealth SleepTime  Asthma KidneyDisease  \\\n",
       "126896                 1  Excellent       7.0       0             0   \n",
       "\n",
       "       SkinCancer GenHealth_Number SleepGroups       BMIGroups  \n",
       "126896          0                5        7-12  Morbidly Obese  \n",
       "\n",
       "[1 rows x 21 columns]"
      ]
     },
     "execution_count": 41,
     "metadata": {},
     "output_type": "execute_result"
    }
   ],
   "source": [
    "health[health['BMI']==max(health.BMI)]"
   ]
  },
  {
   "cell_type": "markdown",
   "id": "346db219",
   "metadata": {},
   "source": [
    "This person is interesting to note.  They rate themselves as \"Excellent\" health, yet have a BMI of 94.85."
   ]
  },
  {
   "cell_type": "code",
   "execution_count": 28,
   "id": "553a592d",
   "metadata": {},
   "outputs": [
    {
     "data": {
      "text/plain": [
       "65-69          0.106790\n",
       "60-64          0.105336\n",
       "70-74          0.097140\n",
       "55-59          0.093050\n",
       "50-54          0.079370\n",
       "80 or older    0.075527\n",
       "45-49          0.068141\n",
       "75-79          0.067174\n",
       "18-24          0.065867\n",
       "40-44          0.065686\n",
       "35-39          0.064260\n",
       "30-34          0.058641\n",
       "25-29          0.053018\n",
       "Name: AgeCategory, dtype: float64"
      ]
     },
     "execution_count": 28,
     "metadata": {},
     "output_type": "execute_result"
    }
   ],
   "source": [
    "health['AgeCategory'].value_counts(normalize=True)"
   ]
  },
  {
   "cell_type": "code",
   "execution_count": 30,
   "id": "fb947bd9",
   "metadata": {},
   "outputs": [
    {
     "data": {
      "text/plain": [
       "(array([ 0,  1,  2,  3,  4,  5,  6,  7,  8,  9, 10, 11, 12]),\n",
       " [Text(0, 0, '18-24'),\n",
       "  Text(1, 0, '25-29'),\n",
       "  Text(2, 0, '30-34'),\n",
       "  Text(3, 0, '35-39'),\n",
       "  Text(4, 0, '40-44'),\n",
       "  Text(5, 0, '45-49'),\n",
       "  Text(6, 0, '50-54'),\n",
       "  Text(7, 0, '55-59'),\n",
       "  Text(8, 0, '60-64'),\n",
       "  Text(9, 0, '65-69'),\n",
       "  Text(10, 0, '70-74'),\n",
       "  Text(11, 0, '75-79'),\n",
       "  Text(12, 0, '80 or older')])"
      ]
     },
     "execution_count": 30,
     "metadata": {},
     "output_type": "execute_result"
    },
    {
     "data": {
      "image/png": "[encoded data removed]",
      "text/plain": [
       "<Figure size 360x360 with 1 Axes>"
      ]
     },
     "metadata": {
      "needs_background": "light"
     },
     "output_type": "display_data"
    }
   ],
   "source": [
    "sns.catplot(x = 'AgeCategory', data = health, kind = 'count')\n",
    "plt.xticks(rotation = 90)"
   ]
  }
 ],
 "metadata": {
  "kernelspec": {
   "display_name": "Python 3 (ipykernel)",
   "language": "python",
   "name": "python3"
  },
  "language_info": {
   "codemirror_mode": {
    "name": "ipython",
    "version": 3
   },
   "file_extension": ".py",
   "mimetype": "text/x-python",
   "name": "python",
   "nbconvert_exporter": "python",
   "pygments_lexer": "ipython3",
   "version": "3.9.12"
  }
 },
 "nbformat": 4,
 "nbformat_minor": 5
}
